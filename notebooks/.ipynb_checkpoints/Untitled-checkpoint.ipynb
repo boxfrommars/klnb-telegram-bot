{
 "cells": [
  {
   "cell_type": "code",
   "execution_count": 57,
   "metadata": {},
   "outputs": [],
   "source": [
    "import feedparser\n",
    "from datetime import datetime\n",
    "from dateutil import tz"
   ]
  },
  {
   "cell_type": "code",
   "execution_count": 34,
   "metadata": {},
   "outputs": [],
   "source": [
    "# d = feedparser.parse('https://www.interfax.ru/rss.asp?maxitems=50')\n",
    "d = feedparser.parse('https://rss.newsru.com/all_news/')\n"
   ]
  },
  {
   "cell_type": "code",
   "execution_count": 35,
   "metadata": {},
   "outputs": [
    {
     "data": {
      "text/plain": [
       "{'title': 'Трамп объявил в США режим чрезвычайной ситуации из-за коронавируса',\n",
       " 'title_detail': {'type': 'text/plain',\n",
       "  'language': None,\n",
       "  'base': 'https://rss.newsru.com/all_news/',\n",
       "  'value': 'Трамп объявил в США режим чрезвычайной ситуации из-за коронавируса'},\n",
       " 'published': 'Fri, 13 Mar 2020 23:29:51 +0300',\n",
       " 'published_parsed': time.struct_time(tm_year=2020, tm_mon=3, tm_mday=13, tm_hour=20, tm_min=29, tm_sec=51, tm_wday=4, tm_yday=73, tm_isdst=0),\n",
       " 'links': [{'rel': 'alternate',\n",
       "   'type': 'text/html',\n",
       "   'href': 'https://www.newsru.com/world/13mar2020/trumpemergency.html?utm_source=rss'}],\n",
       " 'link': 'https://www.newsru.com/world/13mar2020/trumpemergency.html?utm_source=rss',\n",
       " 'summary': 'Объявление режима ЧС в США позволит Федеральному агентству по управлению в чрезвычайных ситуациях США направить на борьбу с коронавирусом до 50 млрд долларов из фонда помощи при бедствиях, пояснил президент.',\n",
       " 'summary_detail': {'type': 'text/html',\n",
       "  'language': None,\n",
       "  'base': 'https://rss.newsru.com/all_news/',\n",
       "  'value': 'Объявление режима ЧС в США позволит Федеральному агентству по управлению в чрезвычайных ситуациях США направить на борьбу с коронавирусом до 50 млрд долларов из фонда помощи при бедствиях, пояснил президент.'},\n",
       " 'tags': [{'term': 'world', 'scheme': None, 'label': None}],\n",
       " 'id': 'https://www.newsru.com/world/13mar2020/trumpemergency.html?utm_source=rss',\n",
       " 'guidislink': False}"
      ]
     },
     "execution_count": 35,
     "metadata": {},
     "output_type": "execute_result"
    }
   ],
   "source": [
    "d['entries'][0]"
   ]
  },
  {
   "cell_type": "code",
   "execution_count": 51,
   "metadata": {},
   "outputs": [
    {
     "name": "stdout",
     "output_type": "stream",
     "text": [
      "https://news.yandex.ru/society.rss 25\n",
      "13 Mar 2020 19:39:07 +0000\n"
     ]
    },
    {
     "data": {
      "text/plain": [
       "[{'title': 'В Черновицкой области Украины ввели режим ЧС из-за коронавируса',\n",
       "  'link': 'https://yandex.ru/news/story/V_CHernovickoj_oblasti_Ukrainy_vveli_rezhim_CHS_iz-za_koronavirusa--51ecb629121a22c90828c791a719a852?lang=ru&from=rss&stid=LcQP',\n",
       "  'published': '13 Mar 2020 19:39:07 +0000'},\n",
       " {'title': 'На Кубани ввели режим повышенной готовности в связи с коронавирусом',\n",
       "  'link': 'https://yandex.ru/news/story/Na_Kubani_vveli_rezhim_povyshennoj_gotovnosti_v_svyazi_s_koronavirusom--de59f5bbd9618c20686bf501baef92ea?lang=ru&from=rss&stid=sH14YUh61OJfOwYC2zjf',\n",
       "  'published': '13 Mar 2020 19:30:54 +0000'},\n",
       " {'title': 'Больницы Москвы прекратили пускать посетителей из-за коронавируса',\n",
       "  'link': 'https://yandex.ru/news/story/Bolnicy_Moskvy_prekratili_puskat_posetitelej_iz-za_koronavirusa--730b938da932ecffcedb4993584462d8?lang=ru&from=rss&stid=rEJJVjLmWGNaMaIYi31q',\n",
       "  'published': '13 Mar 2020 17:02:53 +0000'},\n",
       " {'title': 'Польша закрывает границы из-за коронавируса',\n",
       "  'link': 'https://yandex.ru/news/story/Polsha_zakryvaet_granicy_iz-za_koronavirusa--f0445f9af18b57a208ce76b426353cfa?lang=ru&from=rss&stid=HfQrwXnF8joLTiiPznMr',\n",
       "  'published': '13 Mar 2020 19:22:48 +0000'},\n",
       " {'title': 'Среди зараженных коронавирусом в Москве оказался подросток',\n",
       "  'link': 'https://yandex.ru/news/story/Sredi_zarazhennykh_koronavirusom_v_Moskve_okazalsya_podrostok--37f8fae624821840ef2df31029821e5f?lang=ru&from=rss&stid=ITZW_jUepnGMrYnRIdlr',\n",
       "  'published': '13 Mar 2020 14:16:00 +0000'},\n",
       " {'title': 'Россия ограничивает авиасообщение со странами ЕС с 16 марта',\n",
       "  'link': 'https://yandex.ru/news/story/Rossiya_ogranichivaet_aviasoobshhenie_so_stranami_ES_s_16_marta--65036f30ef0b62e243e3ebc97bd77c30?lang=ru&from=rss&stid=HdGsNTm82dwbKFiLgfRn',\n",
       "  'published': '13 Mar 2020 17:22:00 +0000'},\n",
       " {'title': 'ВОЗ назвала Европу центром пандемии коронавируса',\n",
       "  'link': 'https://yandex.ru/news/story/VOZ_nazvala_Evropu_centrom_pandemii_koronavirusa--db92e83244182f51c76388ee8476d459?lang=ru&from=rss&stid=bVpxJ40WGuCX9Eb1RwhT',\n",
       "  'published': '13 Mar 2020 20:57:54 +0000'},\n",
       " {'title': 'Роспотребнадзор посоветовал дезинфицировать гаджеты из-за коронавируса',\n",
       "  'link': 'https://yandex.ru/news/story/Rospotrebnadzor_posovetoval_dezinficirovat_gadzhety_iz-za_koronavirusa--3a62ea9591b2f05a555a58c6bf995df8?lang=ru&from=rss&stid=nC5ibgxl4AH0bDrOXY0B',\n",
       "  'published': '13 Mar 2020 06:16:54 +0000'},\n",
       " {'title': 'В Краснодарском крае запретили проведение массовых мероприятий',\n",
       "  'link': 'https://yandex.ru/news/story/V_Krasnodarskom_krae_zapretili_provedenie_massovykh_meropriyatij--cb2f60335937d2b4bc36965521883770?lang=ru&from=rss&stid=KPNHbf9gJ9UWgs4h6OpB',\n",
       "  'published': '13 Mar 2020 18:35:27 +0000'},\n",
       " {'title': 'ВОЗ объявила пандемию коронавируса',\n",
       "  'link': 'https://yandex.ru/news/story/VOZ_obyavila_pandemiyu_koronavirusa--bda88e4d72d5a1820c237aaa134bc52a?lang=ru&from=rss&stid=8GgtqZeIzgb2X32PG2-g',\n",
       "  'published': '11 Mar 2020 17:26:17 +0000'},\n",
       " {'title': 'Малышева назвала главное средство от коронавируса',\n",
       "  'link': 'https://yandex.ru/news/story/Malysheva_nazvala_glavnoe_sredstvo_ot_koronavirusa--59f430abbbaa438b9b47fb1b0fe1b745?lang=ru&from=rss&stid=wVeaCYoM2y9ZHdE5CdJX',\n",
       "  'published': '13 Mar 2020 17:22:00 +0000'},\n",
       " {'title': 'Правительство объявило о новых мерах борьбы с коронавирусом',\n",
       "  'link': 'https://yandex.ru/news/story/Pravitelstvo_obyavilo_o_novykh_merakh_borby_s_koronavirusom--9b86181bd154ccb043b46b597e61d3a1?lang=ru&from=rss&stid=CQOHAJkPftCb4dTiqVzG',\n",
       "  'published': '11 Mar 2020 17:41:49 +0000'},\n",
       " {'title': 'В Петербурге запретили массовые мероприятия из-за коронавируса',\n",
       "  'link': 'https://yandex.ru/news/story/V_Peterburge_zapretili_massovye_meropriyatiya_iz-za_koronavirusa--f0c5bdf809599a8c67860e99bf9f4e2a?lang=ru&from=rss&stid=O4v-LepiRxCihC0NMHPx',\n",
       "  'published': '13 Mar 2020 11:29:47 +0000'},\n",
       " {'title': 'В Москве более 13 тыс. человек самоизолировались из-за коронавируса',\n",
       "  'link': 'https://yandex.ru/news/story/V_Moskve_bolee_13_tys._chelovek_samoizolirovalis_iz-za_koronavirusa--e7d58fef8d055b13fe435c9ea951c9fe?lang=ru&from=rss&stid=CqgMy0N5PE9AxZBPqP53',\n",
       "  'published': '13 Mar 2020 15:51:35 +0000'},\n",
       " {'title': 'На Украине подтверждена первая смерть от коронавируса',\n",
       "  'link': 'https://yandex.ru/news/story/Na_Ukraine_podtverzhdena_pervaya_smert_ot_koronavirusa--f31f1b3ee9fc7759d9414d17d0302834?lang=ru&from=rss&stid=SZ9VkdMqNGORo2LhSkrM',\n",
       "  'published': '13 Mar 2020 13:51:34 +0000'},\n",
       " {'title': 'Чехия из-за коронавируса полностью закрыла границы для иностранцев',\n",
       "  'link': 'https://yandex.ru/news/story/CHekhiya_iz-za_koronavirusa_polnostyu_zakryla_granicy_dlya_inostrancev--b39b6bba05418e1e2c4ce2a52e256119?lang=ru&from=rss&stid=NT0ENdvlqW99xsMcWmq6',\n",
       "  'published': '13 Mar 2020 12:40:23 +0000'},\n",
       " {'title': 'На Украине зафиксирована первая смерть от коронавируса',\n",
       "  'link': 'https://yandex.ru/news/story/Na_Ukraine_zafiksirovana_pervaya_smert_ot_koronavirusa--8d5aaeef2a409d1c586e8cc0e485fd27?lang=ru&from=rss&stid=-hMjGG5e3YwYstwZiwBJ',\n",
       "  'published': '13 Mar 2020 13:48:00 +0000'},\n",
       " {'title': 'В Прикамье подтвердился первый случай заражения коронавирусом',\n",
       "  'link': 'https://yandex.ru/news/story/V_Prikame_podtverdilsya_pervyj_sluchaj_zarazheniya_koronavirusom--29e16bd4e96e4d61306a4badcfd136c4?lang=ru&from=rss&stid=JJPKMJdQdnv_',\n",
       "  'published': '13 Mar 2020 14:52:07 +0000'},\n",
       " {'title': 'В Еврокомиссии считают, что остановить коронавирус уже невозможно',\n",
       "  'link': 'https://yandex.ru/news/story/V_Evrokomissii_schitayut_chto_ostanovit_koronavirus_uzhe_nevozmozhno--eaccd8027f3b362b410694bd182fac16?lang=ru&from=rss&stid=bV5Vi4wjzAV4fJWHsgG3',\n",
       "  'published': '13 Mar 2020 17:12:21 +0000'},\n",
       " {'title': 'В России за сутки выявили 11 новых случаев заражения коронавирусом',\n",
       "  'link': 'https://yandex.ru/news/story/V_Rossii_za_sutki_vyyavili_11_novykh_sluchaev_zarazheniya_koronavirusom--ec3ad7a6095fd90832ea21fff64b7027?lang=ru&from=rss&stid=X2RStC5FbM7bC4Bidwcw',\n",
       "  'published': '13 Mar 2020 14:52:53 +0000'}]"
      ]
     },
     "execution_count": 51,
     "metadata": {},
     "output_type": "execute_result"
    }
   ],
   "source": [
    "feeds = [\n",
    "#     'https://rss.newsru.com/all_news/',\n",
    "#     'https://www.interfax.ru/rss.asp',\n",
    "#     'https://ria.ru/export/rss2/index.xml',\n",
    "    'https://news.yandex.ru/society.rss'\n",
    "]\n",
    "needles = ['эстони', 'швеци', 'финлянд', 'хельсинк', 'таллин', 'стокгольм', 'корона']\n",
    "\n",
    "\n",
    "countries_news = []\n",
    "\n",
    "for feed in feeds:\n",
    "    d = feedparser.parse(feed)\n",
    "    print(feed, len(d['entries']))\n",
    "    print(d['entries'][0]['published'])\n",
    "    for item in d['entries']:\n",
    "        if any(needle in item['title'].lower() for needle in needles) or any(needle in item['summary'].lower() for needle in needles):\n",
    "            countries_news.append({\n",
    "                'title': item['title'],\n",
    "                'link': item['link'],\n",
    "                'published': item['published'],\n",
    "#                 'published_dt': datetime.strptime(item['published'])\n",
    "            })\n",
    "\n",
    "countries_news"
   ]
  },
  {
   "cell_type": "code",
   "execution_count": 55,
   "metadata": {},
   "outputs": [
    {
     "ename": "TypeError",
     "evalue": "tzinfo argument must be None or of a tzinfo subclass, not type 'str'",
     "output_type": "error",
     "traceback": [
      "\u001b[0;31m---------------------------------------------------------------------------\u001b[0m",
      "\u001b[0;31mTypeError\u001b[0m                                 Traceback (most recent call last)",
      "\u001b[0;32m<ipython-input-55-417ea24c34c4>\u001b[0m in \u001b[0;36m<module>\u001b[0;34m\u001b[0m\n\u001b[1;32m      1\u001b[0m \u001b[0mdt\u001b[0m \u001b[0;34m=\u001b[0m \u001b[0mdatetime\u001b[0m\u001b[0;34m.\u001b[0m\u001b[0mstrptime\u001b[0m\u001b[0;34m(\u001b[0m\u001b[0;34m'13 Mar 2020 19:39:07 +0000'\u001b[0m\u001b[0;34m,\u001b[0m \u001b[0;34m'%d %b %Y %H:%M:%S %z'\u001b[0m\u001b[0;34m)\u001b[0m\u001b[0;34m\u001b[0m\u001b[0;34m\u001b[0m\u001b[0m\n\u001b[0;32m----> 2\u001b[0;31m \u001b[0mdt_moscow\u001b[0m \u001b[0;34m=\u001b[0m \u001b[0mdt\u001b[0m\u001b[0;34m.\u001b[0m\u001b[0mastimezone\u001b[0m\u001b[0;34m(\u001b[0m\u001b[0mtz\u001b[0m\u001b[0;34m=\u001b[0m\u001b[0;34m'Europe/Moscow'\u001b[0m\u001b[0;34m)\u001b[0m\u001b[0;34m\u001b[0m\u001b[0;34m\u001b[0m\u001b[0m\n\u001b[0m",
      "\u001b[0;31mTypeError\u001b[0m: tzinfo argument must be None or of a tzinfo subclass, not type 'str'"
     ]
    }
   ],
   "source": [
    "moscow_tz = from dateutil import tz\n",
    "dt = datetime.strptime('13 Mar 2020 19:39:07 +0000', '%d %b %Y %H:%M:%S %z')\n",
    "dt_moscow = dt.astimezone(tz='Europe/Moscow')"
   ]
  },
  {
   "cell_type": "code",
   "execution_count": null,
   "metadata": {},
   "outputs": [],
   "source": []
  }
 ],
 "metadata": {
  "kernelspec": {
   "display_name": "Python 3",
   "language": "python",
   "name": "python3"
  },
  "language_info": {
   "codemirror_mode": {
    "name": "ipython",
    "version": 3
   },
   "file_extension": ".py",
   "mimetype": "text/x-python",
   "name": "python",
   "nbconvert_exporter": "python",
   "pygments_lexer": "ipython3",
   "version": "3.7.6"
  }
 },
 "nbformat": 4,
 "nbformat_minor": 4
}
