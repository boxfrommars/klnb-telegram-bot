{
 "cells": [
  {
   "cell_type": "code",
   "execution_count": 55,
   "metadata": {},
   "outputs": [],
   "source": [
    "from bs4 import BeautifulSoup\n",
    "import requests\n",
    "import re\n",
    "from datetime import datetime, timedelta\n",
    "from dateutil import tz"
   ]
  },
  {
   "cell_type": "code",
   "execution_count": 84,
   "metadata": {},
   "outputs": [],
   "source": []
  },
  {
   "cell_type": "code",
   "execution_count": 85,
   "metadata": {},
   "outputs": [],
   "source": [
    "req = requests.get(start_url)"
   ]
  },
  {
   "cell_type": "code",
   "execution_count": 86,
   "metadata": {},
   "outputs": [],
   "source": [
    "soup = BeautifulSoup(req.content, 'html.parser')"
   ]
  },
  {
   "cell_type": "code",
   "execution_count": 87,
   "metadata": {},
   "outputs": [],
   "source": [
    "news_items = soup.find(\"div\", id=\"page\").find_all(class_='list-item')"
   ]
  },
  {
   "cell_type": "code",
   "execution_count": 88,
   "metadata": {},
   "outputs": [
    {
     "name": "stdout",
     "output_type": "stream",
     "text": [
      "20\n"
     ]
    }
   ],
   "source": [
    "print(len(news_items))"
   ]
  },
  {
   "cell_type": "code",
   "execution_count": 95,
   "metadata": {},
   "outputs": [],
   "source": [
    "base_url = 'https://ria.ru'\n",
    "start_urls = [\n",
    "    f'{base_url}/category_rasprostranenie-novogo-koronavirusa+location_Finland/',\n",
    "    f'{base_url}/category_rasprostranenie-novogo-koronavirusa+location_Estonia/',\n",
    "    f'{base_url}/category_rasprostranenie-novogo-koronavirusa+location_Sweden/',\n",
    "]\n",
    "\n",
    "current_tz = tz.gettz('Europe/Moscow')\n",
    "dt_format = '%H:%M %d.%m'\n",
    "\n",
    "countries_news = []\n",
    "for start_url in start_urls:\n",
    "    req = requests.get(start_url)\n",
    "    soup = BeautifulSoup(req.content, 'html.parser')\n",
    "    news_items = soup.find(\"div\", id=\"page\").find_all(class_='list-item')\n",
    "\n",
    "    for news_item in news_items:\n",
    "        schema_h = news_item.find(class_='schema_org')\n",
    "        link = schema_h.find(attrs={\"itemprop\": \"url\"}).get('content')\n",
    "        title = schema_h.find(attrs={\"itemprop\": \"name\"}).get('content')\n",
    "        human_dt = news_item.find(class_='list-item__date').get_text()\n",
    "        dt = parse_datetime(human_dt)\n",
    "        \n",
    "        countries_news.append({\n",
    "            'title': title,\n",
    "            'link': f'{base_url}{link}',\n",
    "            'published_origin': human_dt,\n",
    "            'published': dt.strftime(dt_format),\n",
    "            'published_dt': dt\n",
    "        })"
   ]
  },
  {
   "cell_type": "code",
   "execution_count": 96,
   "metadata": {},
   "outputs": [
    {
     "name": "stdout",
     "output_type": "stream",
     "text": [
      "[{'title': 'Восемь человек с коронавирусом выздоровели в Хельсинки', 'link': 'https://ria.ru/20200314/1568615319.html', 'published_origin': 'Вчера, 21:41', 'published': '21:41 14.03', 'published_dt': datetime.datetime(2020, 3, 14, 21, 41, tzinfo=tzfile('/usr/share/zoneinfo/Europe/Moscow'))}, {'title': 'В Финляндии число случаев коронавируса увеличилось до 210 человек', 'link': 'https://ria.ru/20200314/1568600195.html', 'published_origin': 'Вчера, 13:44', 'published': '13:44 14.03', 'published_dt': datetime.datetime(2020, 3, 14, 13, 44, tzinfo=tzfile('/usr/share/zoneinfo/Europe/Moscow'))}, {'title': 'Посольство уточнило число россиян на лайнере Costa Magica', 'link': 'https://ria.ru/20200313/1568577379.html', 'published_origin': '13 марта, 18:47', 'published': '18:47 13.03', 'published_dt': datetime.datetime(2020, 3, 13, 18, 47, tzinfo=tzfile('/usr/share/zoneinfo/Europe/Moscow'))}, {'title': 'В Гонконге рекомендовали избегать поездок в ряд стран Шенгенской зоны', 'link': 'https://ria.ru/20200313/1568571317.html', 'published_origin': '13 марта, 17:14', 'published': '17:14 13.03', 'published_dt': datetime.datetime(2020, 3, 13, 17, 14, tzinfo=tzfile('/usr/share/zoneinfo/Europe/Moscow'))}, {'title': 'В Финляндии число заразившихся коронавирусом выросло до 155 человек', 'link': 'https://ria.ru/20200313/1568538889.html', 'published_origin': '13 марта, 11:49', 'published': '11:49 13.03', 'published_dt': datetime.datetime(2020, 3, 13, 11, 49, tzinfo=tzfile('/usr/share/zoneinfo/Europe/Moscow'))}, {'title': 'Трамп заявил, что сможет быстро восстановить поездки из Европы', 'link': 'https://ria.ru/20200312/1568510541.html', 'published_origin': '12 марта, 18:47', 'published': '18:47 12.03', 'published_dt': datetime.datetime(2020, 3, 12, 18, 47, tzinfo=tzfile('/usr/share/zoneinfo/Europe/Moscow'))}, {'title': '\"Йокерит\" не рекомендует болельщикам ехать в Петербург на матчи со СКА', 'link': 'https://ria.ru/20200312/1568505345.html', 'published_origin': '12 марта, 17:24', 'published': '17:24 12.03', 'published_dt': datetime.datetime(2020, 3, 12, 17, 24, tzinfo=tzfile('/usr/share/zoneinfo/Europe/Moscow'))}, {'title': 'США вводят запрет на въезд граждан, посещавших Шенгенскую зону', 'link': 'https://ria.ru/20200312/1568465840.html', 'published_origin': '12 марта, 05:22', 'published': '05:22 12.03', 'published_dt': datetime.datetime(2020, 3, 12, 5, 22, tzinfo=tzfile('/usr/share/zoneinfo/Europe/Moscow'))}, {'title': 'Учения НАТО в Норвегии прекратили из-за коронавируса', 'link': 'https://ria.ru/20200311/1568437170.html', 'published_origin': '11 марта, 15:20', 'published': '15:20 11.03', 'published_dt': datetime.datetime(2020, 3, 11, 15, 20, tzinfo=tzfile('/usr/share/zoneinfo/Europe/Moscow'))}, {'title': 'В Финляндии число заболевших коронавирусом выросло до 57 человек', 'link': 'https://ria.ru/20200311/1568427933.html', 'published_origin': '11 марта, 13:01', 'published': '13:01 11.03', 'published_dt': datetime.datetime(2020, 3, 11, 13, 1, tzinfo=tzfile('/usr/share/zoneinfo/Europe/Moscow'))}, {'title': 'В Финляндии число заразившихся коронавирусом увеличилось до 43 человек', 'link': 'https://ria.ru/20200311/1568424734.html', 'published_origin': '11 марта, 12:18', 'published': '12:18 11.03', 'published_dt': datetime.datetime(2020, 3, 11, 12, 18, tzinfo=tzfile('/usr/share/zoneinfo/Europe/Moscow'))}, {'title': 'В Финляндии число случаев заражения коронавирусом увеличилось до 40', 'link': 'https://ria.ru/20200310/1568373604.html', 'published_origin': '10 марта, 12:17', 'published': '12:17 10.03', 'published_dt': datetime.datetime(2020, 3, 10, 12, 17, tzinfo=tzfile('/usr/share/zoneinfo/Europe/Moscow'))}, {'title': 'В Финляндии число случаев заражения коронавирусом возросло до 33', 'link': 'https://ria.ru/20200309/1568348341.html', 'published_origin': '9 марта, 16:56', 'published': '16:56 09.03', 'published_dt': datetime.datetime(2020, 3, 9, 16, 56, tzinfo=tzfile('/usr/share/zoneinfo/Europe/Moscow'))}, {'title': 'Финские военные не поедут на учения НАТО в Норвегию из-за коронавируса', 'link': 'https://ria.ru/20200308/1568322107.html', 'published_origin': '8 марта, 18:15', 'published': '18:15 08.03', 'published_dt': datetime.datetime(2020, 3, 8, 18, 15, tzinfo=tzfile('/usr/share/zoneinfo/Europe/Moscow'))}, {'title': 'Число случаев коронавируса в Финляндии увеличилось до 19', 'link': 'https://ria.ru/20200307/1568285817.html', 'published_origin': '7 марта, 12:23', 'published': '12:23 07.03', 'published_dt': datetime.datetime(2020, 3, 7, 12, 23, tzinfo=tzfile('/usr/share/zoneinfo/Europe/Moscow'))}, {'title': 'В Финляндии число заразившихся коронавирусом увеличилось до 15 человек', 'link': 'https://ria.ru/20200306/1568239439.html', 'published_origin': '6 марта, 12:16', 'published': '12:16 06.03', 'published_dt': datetime.datetime(2020, 3, 6, 12, 16, tzinfo=tzfile('/usr/share/zoneinfo/Europe/Moscow'))}, {'title': 'В Финляндии выявили пять новых случаев заражения коронавирусом', 'link': 'https://ria.ru/20200305/1568185047.html', 'published_origin': '5 марта, 12:10', 'published': '12:10 05.03', 'published_dt': datetime.datetime(2020, 3, 5, 12, 10, tzinfo=tzfile('/usr/share/zoneinfo/Europe/Moscow'))}, {'title': 'Шестой случай заражения коронавирусом подтвердили в Финляндии', 'link': 'https://ria.ru/20200302/1567099008.html', 'published_origin': '2 марта, 20:43', 'published': '20:43 02.03', 'published_dt': datetime.datetime(2020, 3, 2, 20, 43, tzinfo=tzfile('/usr/share/zoneinfo/Europe/Moscow'))}, {'title': 'В Финляндии выявили два новых случая заражения коронавирусом', 'link': 'https://ria.ru/20200301/1565903075.html', 'published_origin': '1 марта, 11:48', 'published': '11:48 01.03', 'published_dt': datetime.datetime(2020, 3, 1, 11, 48, tzinfo=tzfile('/usr/share/zoneinfo/Europe/Moscow'))}, {'title': 'Второй житель Финляндии заразился коронавирусом', 'link': 'https://ria.ru/20200228/1565352923.html', 'published_origin': '28 февраля, 20:57', 'published': '20:57 28.02', 'published_dt': datetime.datetime(2020, 2, 28, 20, 57, tzinfo=tzfile('/usr/share/zoneinfo/Europe/Moscow'))}, {'title': 'Число заразившихся коронавирусом в Эстонии выросло до 115 человек', 'link': 'https://ria.ru/20200314/1568613803.html', 'published_origin': 'Вчера, 20:37', 'published': '20:37 14.03', 'published_dt': datetime.datetime(2020, 3, 14, 20, 37, tzinfo=tzfile('/usr/share/zoneinfo/Europe/Moscow'))}, {'title': 'В Эстонии число заразившихся коронавирусом выросло до 109 человек', 'link': 'https://ria.ru/20200314/1568598367.html', 'published_origin': 'Вчера, 12:54', 'published': '12:54 14.03', 'published_dt': datetime.datetime(2020, 3, 14, 12, 54, tzinfo=tzfile('/usr/share/zoneinfo/Europe/Moscow'))}, {'title': 'Премьер Эстонии опасается роста числа заражений коронавирусом в стране', 'link': 'https://ria.ru/20200313/1568584523.html', 'published_origin': '13 марта, 21:59', 'published': '21:59 13.03', 'published_dt': datetime.datetime(2020, 3, 13, 21, 59, tzinfo=tzfile('/usr/share/zoneinfo/Europe/Moscow'))}, {'title': 'Число заразившихся коронавирусом в Эстонии выросло до 79 человек', 'link': 'https://ria.ru/20200313/1568583001.html', 'published_origin': '13 марта, 21:00', 'published': '21:00 13.03', 'published_dt': datetime.datetime(2020, 3, 13, 21, 0, tzinfo=tzfile('/usr/share/zoneinfo/Europe/Moscow'))}, {'title': 'В Эстонии число заразившихся коронавирусом выросло до 68 человек', 'link': 'https://ria.ru/20200313/1568579618.html', 'published_origin': '13 марта, 19:23', 'published': '19:23 13.03', 'published_dt': datetime.datetime(2020, 3, 13, 19, 23, tzinfo=tzfile('/usr/share/zoneinfo/Europe/Moscow'))}, {'title': 'В Гонконге рекомендовали избегать поездок в ряд стран Шенгенской зоны', 'link': 'https://ria.ru/20200313/1568571317.html', 'published_origin': '13 марта, 17:14', 'published': '17:14 13.03', 'published_dt': datetime.datetime(2020, 3, 13, 17, 14, tzinfo=tzfile('/usr/share/zoneinfo/Europe/Moscow'))}, {'title': 'МИД рекомендовал россиянам учитывать эпидемобстановку в Эстонии', 'link': 'https://ria.ru/20200313/1568539140.html', 'published_origin': '13 марта, 11:52', 'published': '11:52 13.03', 'published_dt': datetime.datetime(2020, 3, 13, 11, 52, tzinfo=tzfile('/usr/share/zoneinfo/Europe/Moscow'))}, {'title': 'В Эстонии число заразившихся коронавирусом выросло до 41', 'link': 'https://ria.ru/20200313/1568536016.html', 'published_origin': '13 марта, 11:34', 'published': '11:34 13.03', 'published_dt': datetime.datetime(2020, 3, 13, 11, 34, tzinfo=tzfile('/usr/share/zoneinfo/Europe/Moscow'))}, {'title': 'Трамп заявил, что сможет быстро восстановить поездки из Европы', 'link': 'https://ria.ru/20200312/1568510541.html', 'published_origin': '12 марта, 18:47', 'published': '18:47 12.03', 'published_dt': datetime.datetime(2020, 3, 12, 18, 47, tzinfo=tzfile('/usr/share/zoneinfo/Europe/Moscow'))}, {'title': 'В Эстонии число заразившихся коронавирусом выросло до 17 человек', 'link': 'https://ria.ru/20200312/1568483663.html', 'published_origin': '12 марта, 12:46', 'published': '12:46 12.03', 'published_dt': datetime.datetime(2020, 3, 12, 12, 46, tzinfo=tzfile('/usr/share/zoneinfo/Europe/Moscow'))}, {'title': 'США вводят запрет на въезд граждан, посещавших Шенгенскую зону', 'link': 'https://ria.ru/20200312/1568465840.html', 'published_origin': '12 марта, 05:22', 'published': '05:22 12.03', 'published_dt': datetime.datetime(2020, 3, 12, 5, 22, tzinfo=tzfile('/usr/share/zoneinfo/Europe/Moscow'))}, {'title': 'Число заразившихся коронавирусом в Эстонии выросло до 16 человек', 'link': 'https://ria.ru/20200311/1568454586.html', 'published_origin': '11 марта, 19:10', 'published': '19:10 11.03', 'published_dt': datetime.datetime(2020, 3, 11, 19, 10, tzinfo=tzfile('/usr/share/zoneinfo/Europe/Moscow'))}, {'title': 'В Эстонии число заболевших коронавирусом выросло до 13 человек', 'link': 'https://ria.ru/20200310/1568395811.html', 'published_origin': '10 марта, 17:40', 'published': '17:40 10.03', 'published_dt': datetime.datetime(2020, 3, 10, 17, 40, tzinfo=tzfile('/usr/share/zoneinfo/Europe/Moscow'))}, {'title': 'В Эстонии зафиксировали два новых случая заражения коронавирусом', 'link': 'https://ria.ru/20200310/1568381856.html', 'published_origin': '10 марта, 14:19', 'published': '14:19 10.03', 'published_dt': datetime.datetime(2020, 3, 10, 14, 19, tzinfo=tzfile('/usr/share/zoneinfo/Europe/Moscow'))}, {'title': 'Додон прервал визит в РФ из-за случая коронавируса в Молдавии', 'link': 'https://ria.ru/20200308/1568311313.html', 'published_origin': '8 марта, 11:54', 'published': '11:54 08.03', 'published_dt': datetime.datetime(2020, 3, 8, 11, 54, tzinfo=tzfile('/usr/share/zoneinfo/Europe/Moscow'))}, {'title': 'Обошлось? Появился результат теста президента Эстонии на коронавирус', 'link': 'https://ria.ru/20200308/1568310884.html', 'published_origin': '8 марта, 11:40', 'published': '11:40 08.03', 'published_dt': datetime.datetime(2020, 3, 8, 11, 40, tzinfo=tzfile('/usr/share/zoneinfo/Europe/Moscow'))}, {'title': 'Власти КНР выделили ВОЗ $20 миллионов на борьбу с COVID-19', 'link': 'https://ria.ru/20200307/1568299167.html', 'published_origin': '7 марта, 20:24', 'published': '20:24 07.03', 'published_dt': datetime.datetime(2020, 3, 7, 20, 24, tzinfo=tzfile('/usr/share/zoneinfo/Europe/Moscow'))}, {'title': '\"Медицинский терроризм\". Глава МИД Ирана связал санкции США с COVID-19', 'link': 'https://ria.ru/20200307/1568297772.html', 'published_origin': '7 марта, 19:33', 'published': '19:33 07.03', 'published_dt': datetime.datetime(2020, 3, 7, 19, 33, tzinfo=tzfile('/usr/share/zoneinfo/Europe/Moscow'))}, {'title': 'Президент Эстонии избегает публики в ожидании теста на COVID-19', 'link': 'https://ria.ru/20200307/1568288991.html', 'published_origin': '7 марта, 14:33', 'published': '14:33 07.03', 'published_dt': datetime.datetime(2020, 3, 7, 14, 33, tzinfo=tzfile('/usr/share/zoneinfo/Europe/Moscow'))}, {'title': 'В Эстонии число заразившихся коронавирусом выросло до десяти человек', 'link': 'https://ria.ru/20200306/1568244948.html', 'published_origin': '6 марта, 13:34', 'published': '13:34 06.03', 'published_dt': datetime.datetime(2020, 3, 6, 13, 34, tzinfo=tzfile('/usr/share/zoneinfo/Europe/Moscow'))}, {'title': 'Марокко приостанавливает авиасообщение с 21 страной', 'link': 'https://ria.ru/20200314/1568617386.html', 'published_origin': 'Вчера, 23:48', 'published': '23:48 14.03', 'published_dt': datetime.datetime(2020, 3, 14, 23, 48, tzinfo=tzfile('/usr/share/zoneinfo/Europe/Moscow'))}, {'title': 'Турция ввела запрет на въезд граждан 14 стран из-за коронавируса', 'link': 'https://ria.ru/20200314/1568610164.html', 'published_origin': 'Вчера, 18:25', 'published': '18:25 14.03', 'published_dt': datetime.datetime(2020, 3, 14, 18, 25, tzinfo=tzfile('/usr/share/zoneinfo/Europe/Moscow'))}, {'title': 'Число зараженных коронавирусом в Швеции превысило 900 человек', 'link': 'https://ria.ru/20200314/1568607583.html', 'published_origin': 'Вчера, 17:14', 'published': '17:14 14.03', 'published_dt': datetime.datetime(2020, 3, 14, 17, 14, tzinfo=tzfile('/usr/share/zoneinfo/Europe/Moscow'))}, {'title': 'Минздрав Эквадора сообщил о первой смерти от коронавируса', 'link': 'https://ria.ru/20200314/1568587718.html', 'published_origin': 'Вчера, 00:35', 'published': '00:35 14.03', 'published_dt': datetime.datetime(2020, 3, 14, 0, 35, tzinfo=tzfile('/usr/share/zoneinfo/Europe/Moscow'))}, {'title': 'Турция приостановила авиасообщение с девятью странами Евросоюза', 'link': 'https://ria.ru/20200313/1568579296.html', 'published_origin': '13 марта, 19:15', 'published': '19:15 13.03', 'published_dt': datetime.datetime(2020, 3, 13, 19, 15, tzinfo=tzfile('/usr/share/zoneinfo/Europe/Moscow'))}, {'title': 'В Гонконге рекомендовали избегать поездок в ряд стран Шенгенской зоны', 'link': 'https://ria.ru/20200313/1568571317.html', 'published_origin': '13 марта, 17:14', 'published': '17:14 13.03', 'published_dt': datetime.datetime(2020, 3, 13, 17, 14, tzinfo=tzfile('/usr/share/zoneinfo/Europe/Moscow'))}, {'title': 'Трамп заявил, что сможет быстро восстановить поездки из Европы', 'link': 'https://ria.ru/20200312/1568510541.html', 'published_origin': '12 марта, 18:47', 'published': '18:47 12.03', 'published_dt': datetime.datetime(2020, 3, 12, 18, 47, tzinfo=tzfile('/usr/share/zoneinfo/Europe/Moscow'))}, {'title': 'В Швеции назвали подсчет числа случаев коронавируса бессмысленным', 'link': 'https://ria.ru/20200312/1568494982.html', 'published_origin': '12 марта, 15:24', 'published': '15:24 12.03', 'published_dt': datetime.datetime(2020, 3, 12, 15, 24, tzinfo=tzfile('/usr/share/zoneinfo/Europe/Moscow'))}, {'title': 'Птичий, свиной и новый. Чему научила прошлая пандемия ', 'link': 'https://ria.ru/20200312/1568487650.html', 'published_origin': '12 марта, 14:36', 'published': '14:36 12.03', 'published_dt': datetime.datetime(2020, 3, 12, 14, 36, tzinfo=tzfile('/usr/share/zoneinfo/Europe/Moscow'))}, {'title': 'США вводят запрет на въезд граждан, посещавших Шенгенскую зону', 'link': 'https://ria.ru/20200312/1568465840.html', 'published_origin': '12 марта, 05:22', 'published': '05:22 12.03', 'published_dt': datetime.datetime(2020, 3, 12, 5, 22, tzinfo=tzfile('/usr/share/zoneinfo/Europe/Moscow'))}, {'title': 'В Швеции зафиксировали первый случай смерти от коронавируса', 'link': 'https://ria.ru/20200311/1568452764.html', 'published_origin': '11 марта, 18:34', 'published': '18:34 11.03', 'published_dt': datetime.datetime(2020, 3, 11, 18, 34, tzinfo=tzfile('/usr/share/zoneinfo/Europe/Moscow'))}, {'title': 'Число заразившихся коронавирусом в Швеции превысило 460 человек', 'link': 'https://ria.ru/20200311/1568444948.html', 'published_origin': '11 марта, 17:08', 'published': '17:08 11.03', 'published_dt': datetime.datetime(2020, 3, 11, 17, 8, tzinfo=tzfile('/usr/share/zoneinfo/Europe/Moscow'))}, {'title': 'Учения НАТО в Норвегии прекратили из-за коронавируса', 'link': 'https://ria.ru/20200311/1568437170.html', 'published_origin': '11 марта, 15:20', 'published': '15:20 11.03', 'published_dt': datetime.datetime(2020, 3, 11, 15, 20, tzinfo=tzfile('/usr/share/zoneinfo/Europe/Moscow'))}, {'title': 'В Швеции число заболевших коронавирусом достигло 326', 'link': 'https://ria.ru/20200310/1568393958.html', 'published_origin': '10 марта, 17:13', 'published': '17:13 10.03', 'published_dt': datetime.datetime(2020, 3, 10, 17, 13, tzinfo=tzfile('/usr/share/zoneinfo/Europe/Moscow'))}, {'title': 'В Швеции число случаев заражения коронавирусом достигло 248', 'link': 'https://ria.ru/20200309/1568349081.html', 'published_origin': '9 марта, 17:18', 'published': '17:18 09.03', 'published_dt': datetime.datetime(2020, 3, 9, 17, 18, tzinfo=tzfile('/usr/share/zoneinfo/Europe/Moscow'))}, {'title': 'Спецрейс привез из Пхеньяна во Владивосток иностранных дипломатов', 'link': 'https://ria.ru/20200309/1568332082.html', 'published_origin': '9 марта, 06:53', 'published': '06:53 09.03', 'published_dt': datetime.datetime(2020, 3, 9, 6, 53, tzinfo=tzfile('/usr/share/zoneinfo/Europe/Moscow'))}, {'title': 'Италия занимает второе место в мире по частоте заражения коронавирусом', 'link': 'https://ria.ru/20200308/1568328776.html', 'published_origin': '8 марта, 23:30', 'published': '23:30 08.03', 'published_dt': datetime.datetime(2020, 3, 8, 23, 30, tzinfo=tzfile('/usr/share/zoneinfo/Europe/Moscow'))}, {'title': 'Более 200 случаев заражения коронавирусом зафиксировали в Швеции', 'link': 'https://ria.ru/20200308/1568324500.html', 'published_origin': '8 марта, 19:52', 'published': '19:52 08.03', 'published_dt': datetime.datetime(2020, 3, 8, 19, 52, tzinfo=tzfile('/usr/share/zoneinfo/Europe/Moscow'))}, {'title': 'В Стокгольме выявили еще 28 случаев заражения коронавирусом', 'link': 'https://ria.ru/20200305/1568215438.html', 'published_origin': '5 марта, 20:25', 'published': '20:25 05.03', 'published_dt': datetime.datetime(2020, 3, 5, 20, 25, tzinfo=tzfile('/usr/share/zoneinfo/Europe/Moscow'))}, {'title': 'В Швеции число заразившихся коронавирусом возросло до 53 человек', 'link': 'https://ria.ru/20200305/1568187572.html', 'published_origin': '5 марта, 12:50', 'published': '12:50 05.03', 'published_dt': datetime.datetime(2020, 3, 5, 12, 50, tzinfo=tzfile('/usr/share/zoneinfo/Europe/Moscow'))}]\n"
     ]
    }
   ],
   "source": [
    "print(countries_news)"
   ]
  },
  {
   "cell_type": "code",
   "execution_count": 92,
   "metadata": {},
   "outputs": [
    {
     "name": "stdout",
     "output_type": "stream",
     "text": [
      "2020-03-14 01:41:00+03:00\n",
      "2020-03-15 01:41:00+03:00\n",
      "2020-04-16 23:41:00+03:00\n"
     ]
    }
   ],
   "source": [
    "st = 'Вчера, 21:41'\n",
    "st = '5 апреля, 03:41'\n",
    "\n",
    "def parse_datetime(st):\n",
    "    monthes_map = ['января', 'февраля', 'марта', 'апреля', 'мая', 'июня', \n",
    "                   'июля', 'августа', 'сентября', 'октября', 'ноября', 'декабря']\n",
    "\n",
    "    time_part = re.findall('\\d{2}:\\d{2}', st)[0].split(':')\n",
    "    hour = int(time_part[0])\n",
    "    minutes = int(time_part[1])\n",
    "    if 'Вчера' in st:\n",
    "        dt = (datetime.now(tz=current_tz) - timedelta(days=1)).replace(\n",
    "            hour=hour, minute=minutes, second=0, microsecond=0\n",
    "        )\n",
    "    elif ',' in st:\n",
    "        datepart = re.findall('(.+),', st)[0].split()\n",
    "        day = int(datepart[0])\n",
    "        month = int(monthes_map.index(datepart[1])) + 1\n",
    "        year = 2020\n",
    "        dt = datetime(year=year, month=month, day=day, hour=hour, minute=minutes, tzinfo=current_tz)\n",
    "    else:\n",
    "        dt = datetime.now(tz=current_tz).replace(\n",
    "            hour=hour, minute=minutes, second=0, microsecond=0\n",
    "        )\n",
    "    return dt\n",
    "    \n",
    "    \n",
    "print(parse_datetime('Вчера, 01:41'))\n",
    "print(parse_datetime('01:41'))\n",
    "print(parse_datetime('16 апреля, 23:41'))"
   ]
  },
  {
   "cell_type": "code",
   "execution_count": null,
   "metadata": {},
   "outputs": [],
   "source": []
  }
 ],
 "metadata": {
  "kernelspec": {
   "display_name": "Python 3",
   "language": "python",
   "name": "python3"
  },
  "language_info": {
   "codemirror_mode": {
    "name": "ipython",
    "version": 3
   },
   "file_extension": ".py",
   "mimetype": "text/x-python",
   "name": "python",
   "nbconvert_exporter": "python",
   "pygments_lexer": "ipython3",
   "version": "3.7.6"
  }
 },
 "nbformat": 4,
 "nbformat_minor": 4
}
